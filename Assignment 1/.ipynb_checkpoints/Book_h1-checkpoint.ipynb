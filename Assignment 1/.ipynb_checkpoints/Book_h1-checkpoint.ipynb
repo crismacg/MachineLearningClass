{
 "cells": [
  {
   "cell_type": "code",
   "execution_count": 11,
   "metadata": {
    "collapsed": true
   },
   "outputs": [],
   "source": [
    "import datetime\n",
    "from datetime import timedelta\n",
    "import pandas as pd\n",
    "import numpy as np\n",
    "import matplotlib.pyplot as plt\n",
    "import matplotlib.dates as mdates\n",
    "import matplotlib.cbook as cbook\n",
    "import plotly\n",
    "import plotly.plotly as py\n",
    "import plotly.graph_objs as go\n",
    "import requests \n"
   ]
  },
  {
   "cell_type": "code",
   "execution_count": 2,
   "metadata": {
    "collapsed": true
   },
   "outputs": [],
   "source": [
    "a_filename = \"Data/311_Service_Requests_-_Alley_Lights_Out.csv\"\n",
    "g_filename = \"Data/311_Service_Requests_-_Graffiti_Removal.csv\"\n",
    "v_filename = \"Data/311_Service_Requests_-_Vacant_and_Abandoned_Buildings_Reported.csv\"\n",
    "KEY = \"a3d7f7cc3bd0e3cb55975f1c70c7aeb4d400fcdb\""
   ]
  },
  {
   "cell_type": "code",
   "execution_count": 3,
   "metadata": {
    "collapsed": true
   },
   "outputs": [],
   "source": [
    "def read_files(filen):\n",
    "    dframe = pd.read_csv(filen)\n",
    "    return dframe"
   ]
  },
  {
   "cell_type": "code",
   "execution_count": 4,
   "metadata": {
    "collapsed": true
   },
   "outputs": [],
   "source": [
    "def cols_upper(dframe):\n",
    "    dframe.rename(columns=lambda x: x.upper(), inplace=True)\n",
    "    return dframe"
   ]
  },
  {
   "cell_type": "code",
   "execution_count": 5,
   "metadata": {
    "collapsed": true
   },
   "outputs": [],
   "source": [
    "def concat_db():\n",
    "    a_lights_db = cols_upper(read_files(a_filename))\n",
    "    grafitti_db = cols_upper(read_files(g_filename))\n",
    "    vacant_db = cols_upper(read_files(v_filename))\n",
    "\n",
    "    vacant_db.rename(index=str, columns={\"SERVICE REQUEST TYPE\": \"TYPE OF SERVICE REQUEST\", \"DATE SERVICE REQUEST WAS RECEIVED\": \"CREATION DATE\"}, inplace=True)\n",
    "\n",
    "    total_db = pd.concat([a_lights_db, grafitti_db, vacant_db])\n",
    "    total_db.reset_index(inplace = True)\n",
    "\n",
    "    total_db['CREATION DATE F'] = total_db['CREATION DATE'].apply(pd.to_datetime) \n",
    "    total_db['COMPLETION DATE F'] = total_db['COMPLETION DATE'].apply(pd.to_datetime) \n",
    "    total_db['RESPONSE TIME'] = (total_db['COMPLETION DATE F'] - total_db['CREATION DATE F']).astype(datetime.timedelta)\n",
    "    total_db['RESPONSE TIME'] =  total_db['RESPONSE TIME'].map(lambda x: np.nan if pd.isnull(x) else x.days)\n",
    "\n",
    "    return total_db"
   ]
  },
  {
   "cell_type": "code",
   "execution_count": 6,
   "metadata": {
    "collapsed": true,
    "scrolled": true
   },
   "outputs": [],
   "source": [
    "db = concat_db()"
   ]
  },
  {
   "cell_type": "code",
   "execution_count": 7,
   "metadata": {},
   "outputs": [
    {
     "name": "stdout",
     "output_type": "stream",
     "text": [
      "\n",
      "Type of Service Request: COUNTS \n",
      " \n",
      "Graffiti Removal             112779\n",
      "Alley Light Out               27896\n",
      "Vacant/Abandoned Building      3666\n",
      "Name: TYPE OF SERVICE REQUEST, dtype: int64\n",
      "\n",
      "Type of Service Request: PERCENTAGE \n",
      " \n",
      "Graffiti Removal             0.781337\n",
      "Alley Light Out              0.193265\n",
      "Vacant/Abandoned Building    0.025398\n",
      "Name: TYPE OF SERVICE REQUEST, dtype: float64\n"
     ]
    }
   ],
   "source": [
    "# Types of Service Requests, general: \n",
    "\n",
    "print(\"\\nType of Service Request: COUNTS \\n \\n{}\".format(db[\"TYPE OF SERVICE REQUEST\"].value_counts()))\n",
    "print(\"\\nType of Service Request: PERCENTAGE \\n \\n{}\".format(db[\"TYPE OF SERVICE REQUEST\"].value_counts(True)))"
   ]
  },
  {
   "cell_type": "code",
   "execution_count": null,
   "metadata": {},
   "outputs": [],
   "source": [
    "# Types of Service requests, Graffiti Removal Specific:\n",
    "print(\"\\nWhat type of surface is the graffiti on?: PERCENTAGE \\n \\n{}\".format(db[\"WHAT TYPE OF SURFACE IS THE GRAFFITI ON?\"].value_counts(True).head(5)))\n",
    "print(\"\\nWhere is the graffiti located?: PERCENTAGE \\n \\n{}\".format(db[\"WHERE IS THE GRAFFITI LOCATED?\"].value_counts(True).head(5)))"
   ]
  },
  {
   "cell_type": "code",
   "execution_count": null,
   "metadata": {},
   "outputs": [],
   "source": [
    "# Types of Service requests, Vacant and Abandoned buildings specific: \n",
    "\n",
    "print(\"\\nIs the building open or boarded?: PERCENTAGE \\n \\n{}\".format(db[\"IS BUILDING OPEN OR BOARDED?\"].value_counts(True).head(5)))\n",
    "print(\"\\nIs the building vacant or occupied?: PERCENTAGE \\n \\n{}\".format(db[\"IS THE BUILDING CURRENTLY VACANT OR OCCUPIED?\"].value_counts(True).head(5)))\n",
    "print(\"\\nIs the building vacant due to fire?: PERCENTAGE \\n \\n{}\".format(db[\"IS THE BUILDING VACANT DUE TO FIRE?\"].value_counts(True).head(5)))\n"
   ]
  },
  {
   "cell_type": "code",
   "execution_count": null,
   "metadata": {},
   "outputs": [],
   "source": [
    "# Get average response date by each group\n",
    "\n",
    "#How to show mean results if we don't have information for Vacant or abandoned building \n",
    "db.groupby([\"TYPE OF SERVICE REQUEST\"])[\"RESPONSE TIME\"].mean()"
   ]
  },
  {
   "cell_type": "code",
   "execution_count": null,
   "metadata": {
    "scrolled": true
   },
   "outputs": [],
   "source": [
    "#Get frequencies of each by date\n",
    "\n",
    "# dates = db.groupby('CREATION DATE F')\n",
    "# y_vals = tuple(dates['TYPE OF SERVICE REQUEST'].count())\n",
    "# x_vals = dates\n",
    "\n",
    "# plt.show()\n",
    "\n",
    "# width = 0.35\n",
    "\n",
    "# fig, ax = plt.subplots()\n",
    "\n",
    "# # add some text for labels, title and axes ticks\n",
    "\n",
    "# plt.show()"
   ]
  },
  {
   "cell_type": "code",
   "execution_count": null,
   "metadata": {
    "collapsed": true
   },
   "outputs": [],
   "source": [
    "#Get frequencies of each by zip codetotal"
   ]
  },
  {
   "cell_type": "code",
   "execution_count": 137,
   "metadata": {
    "collapsed": true
   },
   "outputs": [],
   "source": [
    "def get_fips(lat, lon):\n",
    "    url=  \"https://geo.fcc.gov/api/census/block/find?latitude={}&longitude={}&format=json\".format(lat, lon)\n",
    "    r = requests.get(url)\n",
    "    r_dic = r.json()\n",
    "    fips = r_dic[\"Block\"][\"FIPS\"]\n",
    "    return fips"
   ]
  },
  {
   "cell_type": "code",
   "execution_count": null,
   "metadata": {},
   "outputs": [],
   "source": [
    "db.dropna(subset=[\"LATITUDE\", \"LONGITUDE\"], inplace= True)\n",
    "db['BLOCK FIPS'] =  db.apply(lambda x: get_fips(x[\"LATITUDE\"], x[\"LONGITUDE\"]), axis = 1)"
   ]
  },
  {
   "cell_type": "code",
   "execution_count": null,
   "metadata": {
    "collapsed": true
   },
   "outputs": [],
   "source": [
    "def get_api_info(fips, varibs, county, state, place): \n",
    "    \n",
    "    key_ = \"&key=\" + KEY\n",
    "    state = fips[0:2]\n",
    "    county = fips[2:5]\n",
    "    tract = fips[5:-1]\n",
    "    block = fips[-1]\n",
    "    var = \"B02001_001E,B02009_001E,B22003_002E,B19058_001E,B19052_001E,B23001_001E,B11016_001E\"\n",
    "    for_ = \"&for=block%20group:*&in=state:\"+ state + \"%20county:\" + county \"%20tract:\" + tract \n",
    "    get_ = \"?get=\" + var\n",
    "    count = 0\n",
    "    STR = \"https://api.census.gov/data/2016/acs/acs5/\" + get_ + for_ + key_\n",
    "    \n",
    "    r = requests.get(STR)\n",
    "    r_dic = r.json()"
   ]
  },
  {
   "cell_type": "code",
   "execution_count": null,
   "metadata": {
    "collapsed": true
   },
   "outputs": [],
   "source": [
    "#Data for pt two: \n",
    "\n",
    "db2 = db[db[\"TYPE OF SERVICE REQUESTS\"] != \"Graffiti Removal\"]\n",
    "\n",
    "db3 = db2[((datetime.now() - db2['CREATION_DATE']).astype(datetime.timedelta).months) <= 3]\n",
    "\n",
    "db3 = db3[db3[\"CREATION DATE\"] != \"Graffiti Removal\"]\n",
    "db3.dropna(subset=[\"LATITUDE\", \"LONGITDE\"], inplace= True)\n",
    "db3['BLOCK FIPS'] =  db3.apply(lambda x: get_fips(x[\"LATITUDE\"], x[\"LONGITUDE\"]), axis = 1)\n"
   ]
  },
  {
   "cell_type": "code",
   "execution_count": null,
   "metadata": {
    "collapsed": true
   },
   "outputs": [],
   "source": []
  }
 ],
 "metadata": {
  "kernelspec": {
   "display_name": "Python 3",
   "language": "python",
   "name": "python3"
  },
  "language_info": {
   "codemirror_mode": {
    "name": "ipython",
    "version": 3
   },
   "file_extension": ".py",
   "mimetype": "text/x-python",
   "name": "python",
   "nbconvert_exporter": "python",
   "pygments_lexer": "ipython3",
   "version": "3.6.3"
  }
 },
 "nbformat": 4,
 "nbformat_minor": 2
}
