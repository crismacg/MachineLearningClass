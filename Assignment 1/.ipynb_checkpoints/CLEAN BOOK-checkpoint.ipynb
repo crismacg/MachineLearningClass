{
 "cells": [
  {
   "cell_type": "markdown",
   "metadata": {},
   "source": [
    "# HOMEWORK 1: DIAGNOSTIC "
   ]
  },
  {
   "cell_type": "markdown",
   "metadata": {},
   "source": [
    "### PRE-PROCESSING: Preparation of working dataframes"
   ]
  },
  {
   "cell_type": "code",
   "execution_count": 1,
   "metadata": {
    "collapsed": true
   },
   "outputs": [],
   "source": [
    "import datetime\n",
    "from datetime import timedelta\n",
    "from datetime import datetime, date, time\n",
    "import pandas as pd\n",
    "import numpy as np\n",
    "import matplotlib.pyplot as plt\n",
    "import matplotlib.dates as mdates\n",
    "import matplotlib.cbook as cbook\n",
    "import plotly\n",
    "import plotly.plotly as py\n",
    "import plotly.graph_objs as go\n",
    "import requests "
   ]
  },
  {
   "cell_type": "markdown",
   "metadata": {},
   "source": [
    "###### Functions for building dataframes"
   ]
  },
  {
   "cell_type": "code",
   "execution_count": 2,
   "metadata": {
    "collapsed": true
   },
   "outputs": [],
   "source": [
    "def read_files(filen):\n",
    "    '''\n",
    "    Reading in downloaded csv files for 311 data for 2017\n",
    "    '''\n",
    "    dframe = pd.read_csv(filen)\n",
    "    return dframe"
   ]
  },
  {
   "cell_type": "code",
   "execution_count": 3,
   "metadata": {
    "collapsed": true
   },
   "outputs": [],
   "source": [
    "def cols_upper(dframe):\n",
    "    '''\n",
    "    Renames columns to get same format for common variables\n",
    "    '''\n",
    "    dframe.rename(columns=lambda x: x.upper(), inplace=True)\n",
    "    return dframe"
   ]
  },
  {
   "cell_type": "code",
   "execution_count": 4,
   "metadata": {
    "collapsed": true
   },
   "outputs": [],
   "source": [
    "def construct_df(a, b, c):\n",
    "    '''\n",
    "    Constructs a common dataframe for the downloaded csvs\n",
    "    '''\n",
    "    a_lights_df = cols_upper(read_files(a))\n",
    "    grafitti_df = cols_upper(read_files(b))\n",
    "    vacant_df = cols_upper(read_files(c))\n",
    "\n",
    "    #Rename column with different name\n",
    "    vacant_df.rename(index=str, columns={\"SERVICE REQUEST TYPE\": \"TYPE OF SERVICE REQUEST\", \"DATE SERVICE REQUEST WAS RECEIVED\": \"CREATION DATE\"}, inplace=True)\n",
    "\n",
    "    total_df = pd.concat([a_lights_df, grafitti_df, vacant_df])\n",
    "    total_df.reset_index(inplace = True)\n",
    "\n",
    "    #Creates new columns with information datetime format. \n",
    "    \n",
    "    total_df['CREATION DATE F'] = total_df['CREATION DATE'].apply(pd.to_datetime) \n",
    "    total_df['COMPLETION DATE F'] = total_df['COMPLETION DATE'].apply(pd.to_datetime) \n",
    "    total_df['RESPONSE TIME'] = (total_df['COMPLETION DATE F'] - total_df['CREATION DATE F'])\n",
    "    total_df['RESPONSE TIME'] =  total_df['RESPONSE TIME'].map(lambda x: np.nan if pd.isnull(x) else x.days)\n",
    "\n",
    "    return total_df"
   ]
  },
  {
   "cell_type": "code",
   "execution_count": 5,
   "metadata": {
    "collapsed": true
   },
   "outputs": [],
   "source": [
    "def get_fips(lat, lon):\n",
    "    url=  \"https://geo.fcc.gov/api/census/block/find?latitude={}&longitude={}&format=json\".format(lat, lon)\n",
    "    r = requests.get(url)\n",
    "    r_dic = r.json()\n",
    "    fips = r_dic[\"Block\"][\"FIPS\"]\n",
    "    return fips"
   ]
  },
  {
   "cell_type": "code",
   "execution_count": 6,
   "metadata": {},
   "outputs": [],
   "source": [
    "#Data for pt two: \n",
    "def update_with_census(df):\n",
    "    d = date(2017, 10, 1)\n",
    "    df2 = df[df[\"TYPE OF SERVICE REQUEST\"] != \"Graffiti Removal\"]\n",
    "    df3 = df2[df2[\"CREATION DATE F\"] > d ]\n",
    "    df3 = df3.dropna(subset=[\"LATITUDE\", \"LONGITUDE\"])\n",
    "    df3['BLOCK FIPS'] =  df3.apply(lambda x: get_fips(x[\"LATITUDE\"], x[\"LONGITUDE\"]), axis = 1)\n",
    "    df3['STATE + COUNTY'] = df3.apply(lambda x: x[\"BLOCK FIPS\"][:5], axis = 1)\n",
    "    df3['TRACT'] = df3.apply(lambda x: x[\"BLOCK FIPS\"][5:11], axis = 1)\n",
    "    df3 = df3.set_index('TRACT')\n",
    "    \n",
    "    return df3 "
   ]
  },
  {
   "cell_type": "code",
   "execution_count": 15,
   "metadata": {
    "collapsed": true
   },
   "outputs": [],
   "source": [
    "def get_tract_info(k):\n",
    "    state = \"17\" #Hardcoded for the case of Illinois / Cook County \n",
    "    county = \"031\"\n",
    "    var = \"NAME,DP02_0001E,DP05_0032E,DP03_0051E,DP02_0058E,DP02_0015E,DP02_0052E\"\n",
    "    get_ = \"?get=\" + var\n",
    "    for_ = \"&for=tract:*\" + \"&in=state:\"+ state + \"+county:\" + county \n",
    "    key_ = \"&key=\" + k\n",
    "    STR = \"https://api.census.gov/data/2015/acs5/profile\" + get_ + for_ + key_\n",
    "    r = requests.get(STR)\n",
    "    info_dict = r.json()\n",
    "    \n",
    "    tract_census_frame = pd.DataFrame(info_dict[1:], columns = [\"NAME\",\"TOTAL HOUSEHOLDS\", \"ONE RACE - WHITE\",\"INCOME AND BENEFITS\",\"EDUCATIONAL ATTAINMENT (25 AND OVER)\",\"AVG HOUSEHOLD SIZE\",\"SCHOOL ENROLLEMENT\",\"STATE\",\"COUNTRY\",\"TRACT\"])\n",
    "    tract_census_frame = tract_census_frame.set_index('TRACT')\n",
    "    \n",
    "    return tract_census_frame"
   ]
  },
  {
   "cell_type": "code",
   "execution_count": 8,
   "metadata": {
    "collapsed": true
   },
   "outputs": [],
   "source": [
    "def join_dframes(df1, df2):\n",
    "    result = pd.concat([df1, df2], axis=1, join='inner')\n",
    "    return result"
   ]
  },
  {
   "cell_type": "markdown",
   "metadata": {},
   "source": [
    "###### Creation of all pertinent dataframes"
   ]
  },
  {
   "cell_type": "code",
   "execution_count": 9,
   "metadata": {
    "collapsed": true
   },
   "outputs": [],
   "source": [
    "a_filename = \"Data/311_Service_Requests_-_Alley_Lights_Out.csv\"\n",
    "g_filename = \"Data/311_Service_Requests_-_Graffiti_Removal.csv\"\n",
    "v_filename = \"Data/311_Service_Requests_-_Vacant_and_Abandoned_Buildings_Reported.csv\"\n",
    "KEY = \"a3d7f7cc3bd0e3cb55975f1c70c7aeb4d400fcdb\"\n",
    "\n",
    "threeoneone_df = construct_df(a_filename, g_filename, v_filename)\n",
    "census_frame = update_with_census(threeoneone_df)\n",
    "tract_frame = get_tract_info(KEY)\n",
    "complete_frame = join_dframes(census_frame, tract_frame)"
   ]
  },
  {
   "cell_type": "markdown",
   "metadata": {},
   "source": [
    "## PROBLEM 1"
   ]
  },
  {
   "cell_type": "markdown",
   "metadata": {},
   "source": [
    "#### Problem 1 - Part 2: Summary statistics"
   ]
  },
  {
   "cell_type": "code",
   "execution_count": null,
   "metadata": {
    "collapsed": true,
    "scrolled": true
   },
   "outputs": [],
   "source": [
    "# Types of Service Requests, general: \n",
    "\n",
    "print(\"\\nType of Service Request: COUNTS \\n \\n{}\".format(threeoneone_df[\"TYPE OF SERVICE REQUEST\"].value_counts()))\n",
    "print(\"\\nType of Service Request: PERCENTAGE \\n \\n{}\".format(threeoneone_df[\"TYPE OF SERVICE REQUEST\"].value_counts(True)))"
   ]
  },
  {
   "cell_type": "code",
   "execution_count": null,
   "metadata": {
    "collapsed": true
   },
   "outputs": [],
   "source": [
    "# Types of Service requests, Graffiti Removal Specific:\n",
    "print(\"\\nWhat type of surface is the graffiti on?: PERCENTAGE \\n \\n{}\".format(threeoneone_df[\"WHAT TYPE OF SURFACE IS THE GRAFFITI ON?\"].value_counts(True).head(5)))\n",
    "print(\"\\nWhere is the graffiti located?: PERCENTAGE \\n \\n{}\".format(threeoneone_df[\"WHERE IS THE GRAFFITI LOCATED?\"].value_counts(True).head(5)))"
   ]
  },
  {
   "cell_type": "code",
   "execution_count": null,
   "metadata": {
    "collapsed": true
   },
   "outputs": [],
   "source": [
    "# Types of Service requests, Vacant and Abandoned buildings specific: \n",
    "\n",
    "print(\"\\nIs the building open or boarded?: PERCENTAGE \\n \\n{}\".format(threeoneone_df[\"IS BUILDING OPEN OR BOARDED?\"].value_counts(True).head(5)))\n",
    "print(\"\\nIs the building vacant or occupied?: PERCENTAGE \\n \\n{}\".format(threeoneone_df[\"IS THE BUILDING CURRENTLY VACANT OR OCCUPIED?\"].value_counts(True).head(5)))\n",
    "print(\"\\nIs the building vacant due to fire?: PERCENTAGE \\n \\n{}\".format(threeoneone_df[\"IS THE BUILDING VACANT DUE TO FIRE?\"].value_counts(True).head(5)))\n"
   ]
  },
  {
   "cell_type": "code",
   "execution_count": null,
   "metadata": {
    "collapsed": true
   },
   "outputs": [],
   "source": [
    "# Get average response date by each group\n",
    "\n",
    "#How to show mean results if we don't have information for Vacant or abandoned building \n",
    "threeoneone_df.groupby([\"TYPE OF SERVICE REQUEST\"])[\"RESPONSE TIME\"].mean()"
   ]
  },
  {
   "cell_type": "code",
   "execution_count": null,
   "metadata": {
    "collapsed": true,
    "scrolled": true
   },
   "outputs": [],
   "source": [
    "#Get frequencies of each by date\n",
    "\n",
    "# dates = db.groupby('CREATION DATE F')\n",
    "# y_vals = tuple(dates['TYPE OF SERVICE REQUEST'].count())\n",
    "# x_vals = dates\n",
    "\n",
    "# plt.show()\n",
    "\n",
    "# width = 0.35\n",
    "\n",
    "# fig, ax = plt.subplots()\n",
    "\n",
    "# # add some text for labels, title and axes ticks\n",
    "\n",
    "# plt.show()"
   ]
  },
  {
   "cell_type": "code",
   "execution_count": null,
   "metadata": {
    "collapsed": true
   },
   "outputs": [],
   "source": [
    "#Get frequencies of each by zip codetotal"
   ]
  },
  {
   "cell_type": "markdown",
   "metadata": {
    "collapsed": true
   },
   "source": [
    "#### Problem 1 - Part 3: Interesting findings:"
   ]
  },
  {
   "cell_type": "code",
   "execution_count": null,
   "metadata": {
    "collapsed": true
   },
   "outputs": [],
   "source": []
  },
  {
   "cell_type": "markdown",
   "metadata": {
    "collapsed": true
   },
   "source": [
    "## PROBLEM 2"
   ]
  },
  {
   "cell_type": "markdown",
   "metadata": {},
   "source": [
    "###### Functions for analysis of part 2"
   ]
  },
  {
   "cell_type": "code",
   "execution_count": null,
   "metadata": {
    "collapsed": true
   },
   "outputs": [],
   "source": [
    "def get_stats(variables, frame, bymonth = False):\n",
    "    if bymonth: \n",
    "        frame[\"MONTH\"] = frame[\"CREATION DATE F\"].apply(lambda x: x.month)\n",
    "    \n",
    "    for var in variables: \n",
    "        frame[\"temp\"] = frame[var].apply(lambda x: np.nan if (x == \"-\") else float(x))\n",
    "        x = frame.groupby(['TYPE OF SERVICE REQUEST'])[\"temp\"].mean()\n",
    "        if bymonth:\n",
    "            x = frame.groupby(['MONTH','TYPE OF SERVICE REQUEST'])[\"temp\"].mean()\n",
    "            print(var, x ,\"\\n\")\n",
    "        else:\n",
    "            print(var, x, \"\\n\")"
   ]
  },
  {
   "cell_type": "markdown",
   "metadata": {},
   "source": [
    "###### Analysis of part 2"
   ]
  },
  {
   "cell_type": "code",
   "execution_count": null,
   "metadata": {
    "collapsed": true
   },
   "outputs": [],
   "source": [
    "var_s = [\"ONE RACE - WHITE\",\"INCOME AND BENEFITS(MEAN)\",\"EDUCATIONAL ATTAINMENT (25 AND OVER)\",\"AVG HOUSEHOLD SIZE\",\"SCHOOL ENROLLEMENT\"]\n",
    "get_stats(var_s, complete_frame)\n",
    "get_stats(var_s, complete_frame, True)"
   ]
  },
  {
   "cell_type": "markdown",
   "metadata": {},
   "source": []
  },
  {
   "cell_type": "markdown",
   "metadata": {},
   "source": [
    "## PROBLEM 3"
   ]
  },
  {
   "cell_type": "markdown",
   "metadata": {},
   "source": [
    "###### Functions for analysis of part 3"
   ]
  },
  {
   "cell_type": "code",
   "execution_count": null,
   "metadata": {
    "collapsed": true
   },
   "outputs": [],
   "source": [
    "def find_zipcode(frame, st_address): \n",
    "    x = frame[(frame[\"STREET ADDRESS\"] == st_address)]\n",
    "    zip_code = x[\"ZIP CODE\"].unique()[0]\n",
    "    return zip_code"
   ]
  },
  {
   "cell_type": "code",
   "execution_count": null,
   "metadata": {
    "collapsed": true
   },
   "outputs": [],
   "source": [
    "def get_relative_prob_fromzc(frame, zcode):\n",
    "    z_f = frame[(frame[\"ZIP CODE\"] == zcode)]\n",
    "    print(\"\\nType of Service Request: PERCENTAGE \\n \\n{}\".format(z_f[\"TYPE OF SERVICE REQUEST\"].value_counts(True)))"
   ]
  },
  {
   "cell_type": "code",
   "execution_count": null,
   "metadata": {
    "collapsed": true
   },
   "outputs": [],
   "source": [
    "def get_relative_prob_fromtype(frame, s_kind, zcode1, zcode2):\n",
    "    k_f = frame[(frame[\"TYPE OF SERVICE REQUEST\"] == s_kind)]\n",
    "    k_f = k_f[(k_f[\"ZIP CODE\"] == zcode1)|(k_f[\"ZIP CODE\"] == zcode2)]\n",
    "    print(\"\\nType of Service Request: PERCENTAGE \\n \\n{}\".format(k_f[\"ZIP CODE\"].value_counts(True)))"
   ]
  },
  {
   "cell_type": "code",
   "execution_count": null,
   "metadata": {
    "collapsed": true
   },
   "outputs": [],
   "source": [
    "def get_relative_prob(a, total):\n",
    "    return a/total "
   ]
  },
  {
   "cell_type": "markdown",
   "metadata": {},
   "source": [
    "###### Analysis of part 3"
   ]
  },
  {
   "cell_type": "markdown",
   "metadata": {},
   "source": [
    "For 3600 W Roosevelt Rd, the most likely report will be Alley Light Out, given that it has the highest probability relative to the three possible options, when we filter the data to only use those reports that proceed from its neighborhood/area (in this case, we use Zip Code to make this approximation). The relative frequencies printed below:"
   ]
  },
  {
   "cell_type": "code",
   "execution_count": null,
   "metadata": {
    "collapsed": true
   },
   "outputs": [],
   "source": [
    "p3a = find_zipcode(db, '3600 W ROOSEVELT RD')\n",
    "get_relative_prob_fromzc(db, zipc)"
   ]
  },
  {
   "cell_type": "markdown",
   "metadata": {},
   "source": [
    "For question 3b: zip codes for Garfield park and Uptown are  60624 and 60640, respectively. Given the relative frequencies printed belowe, we can think that since the probability is considerably higher, the call will most likely come from the zip code 60640 which corresponds to Uptown."
   ]
  },
  {
   "cell_type": "code",
   "execution_count": null,
   "metadata": {
    "collapsed": true
   },
   "outputs": [],
   "source": [
    "get_relative_prob_fromtype(db, \"Graffiti Removal\",60624,60640)"
   ]
  },
  {
   "cell_type": "markdown",
   "metadata": {},
   "source": [
    "We use the conditional probability formula P(A|B) = P(A n B) / P (B), where P(A n B) is the probability that given the data the call is comming from a specific neighborhood (A) and is about grafitti (B), and P(B) is the probability that the call is concerning Grafitti. With the information provided, we conclude that it is 37% less likely that it came from Garfield. Conditional probabilities are printed below:"
   ]
  },
  {
   "cell_type": "code",
   "execution_count": null,
   "metadata": {
    "collapsed": true
   },
   "outputs": [],
   "source": [
    "prob_grafitti = get_relative_prob(260, 1000)\n",
    "prob_gar_grafitti = get_relative_prob(100, 1000)\n",
    "prob_uptown_grafitti = get_relative_prob(160, 1000)\n",
    "\n",
    "cond_garfield = get_relative_prob(prob_gar_grafitti, prob_grafitti)\n",
    "cond_uptown = get_relative_prob(prob_uptown_grafitti, prob_grafitti)\n",
    "\n",
    "print(\"Conditional probability for Garfield:\", cond_garfield, \"Conditional probability for Uptown:\", cond_uptown)\n",
    "\n",
    "dif = (cond_garfield -  cond_uptown) /  cond_uptown\n",
    "print(dif)"
   ]
  }
 ],
 "metadata": {
  "kernelspec": {
   "display_name": "Python 3",
   "language": "python",
   "name": "python3"
  },
  "language_info": {
   "codemirror_mode": {
    "name": "ipython",
    "version": 3
   },
   "file_extension": ".py",
   "mimetype": "text/x-python",
   "name": "python",
   "nbconvert_exporter": "python",
   "pygments_lexer": "ipython3",
   "version": "3.6.3"
  }
 },
 "nbformat": 4,
 "nbformat_minor": 2
}
